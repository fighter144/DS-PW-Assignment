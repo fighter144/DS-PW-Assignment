{
 "cells": [
  {
   "cell_type": "code",
   "execution_count": 1,
   "id": "5b3c896f-48c3-43d0-99e7-44cde5a946fc",
   "metadata": {},
   "outputs": [],
   "source": [
    "#Q1  Write a code to reverse a string?"
   ]
  },
  {
   "cell_type": "code",
   "execution_count": 2,
   "id": "61ef576a-9608-4290-a6a2-377d868bda7f",
   "metadata": {},
   "outputs": [
    {
     "data": {
      "text/plain": [
       "'sllikswp'"
      ]
     },
     "execution_count": 2,
     "metadata": {},
     "output_type": "execute_result"
    }
   ],
   "source": [
    "string=\"pwskills\"\n",
    "string[::-1]"
   ]
  },
  {
   "cell_type": "code",
   "execution_count": 3,
   "id": "f973a880-1ad8-45c4-bb0c-6e87037e079e",
   "metadata": {},
   "outputs": [],
   "source": [
    "#Q2 Write a code to count the number of vowels in string?"
   ]
  },
  {
   "cell_type": "code",
   "execution_count": 4,
   "id": "f36da14b-eafa-4f17-b242-6470df9e76ef",
   "metadata": {},
   "outputs": [
    {
     "name": "stdout",
     "output_type": "stream",
     "text": [
      "5\n"
     ]
    }
   ],
   "source": [
    "string=\"Data Science\"\n",
    "count=0\n",
    "for i in string.lower():\n",
    "    if i in \"aeiou\":\n",
    "        count=count+1\n",
    "print(count)"
   ]
  },
  {
   "cell_type": "code",
   "execution_count": 5,
   "id": "034a211f-2217-4a26-9a25-c3b16d3a5a4b",
   "metadata": {},
   "outputs": [],
   "source": [
    "#Q3 Write a code to check if a given string is pallindrome or not?"
   ]
  },
  {
   "cell_type": "code",
   "execution_count": 6,
   "id": "1a7c9aca-816b-493d-bb68-28e9dc2bf140",
   "metadata": {},
   "outputs": [
    {
     "name": "stdout",
     "output_type": "stream",
     "text": [
      "Pallindrome\n"
     ]
    }
   ],
   "source": [
    "string=\"civic\"\n",
    "if string!=string[::-1]:\n",
    "    print(\"Not a Pallindrome\")\n",
    "else:\n",
    "    print(\"Pallindrome\")"
   ]
  },
  {
   "cell_type": "code",
   "execution_count": 7,
   "id": "143869c6-83e1-4a54-b390-da810199ef5c",
   "metadata": {},
   "outputs": [],
   "source": [
    "#Q4 Write a code to check if two given strings are anagrams of each other?"
   ]
  },
  {
   "cell_type": "code",
   "execution_count": 8,
   "id": "50c16b23-1a94-4e45-be39-084a4592a12f",
   "metadata": {},
   "outputs": [
    {
     "name": "stdout",
     "output_type": "stream",
     "text": [
      "Anagrams\n"
     ]
    }
   ],
   "source": [
    "str1=\"heart\"\n",
    "str2=\"earth\"\n",
    "list1=[i for i in str1]\n",
    "list2=[j for j in str2]\n",
    "if sorted(list1)==sorted(list2):\n",
    "    print(\"Anagrams\")\n",
    "else:\n",
    "    print(\"Not Anagrams\")"
   ]
  },
  {
   "cell_type": "code",
   "execution_count": 9,
   "id": "c98ca631-ae99-4a48-8798-5b91d8ffe528",
   "metadata": {},
   "outputs": [],
   "source": [
    "#Q7 Write a code to determine if a string has all unique character?"
   ]
  },
  {
   "cell_type": "code",
   "execution_count": 10,
   "id": "d4aaca14-ea0f-4749-8266-10547b402080",
   "metadata": {},
   "outputs": [
    {
     "name": "stdout",
     "output_type": "stream",
     "text": [
      "Not a Unique String\n"
     ]
    }
   ],
   "source": [
    "str1=\"pwskills\"\n",
    "list=[i for i in str1]\n",
    "for i in list:\n",
    "    if list.count(i)>1:\n",
    "        print(\"Not a Unique String\")\n",
    "        break"
   ]
  },
  {
   "cell_type": "code",
   "execution_count": 11,
   "id": "ae7523ef-293e-4ab9-8b83-a8f9e0cf1429",
   "metadata": {},
   "outputs": [],
   "source": [
    "#Q8 Write a code to convert a given string to uppercase or lowercase?"
   ]
  },
  {
   "cell_type": "code",
   "execution_count": 12,
   "id": "9378dc7f-0df5-4222-96d6-462313e49352",
   "metadata": {},
   "outputs": [
    {
     "data": {
      "text/plain": [
       "'PWSKILLS'"
      ]
     },
     "execution_count": 12,
     "metadata": {},
     "output_type": "execute_result"
    }
   ],
   "source": [
    "str1=\"pwskills\"\n",
    "str1.upper()"
   ]
  },
  {
   "cell_type": "code",
   "execution_count": 13,
   "id": "3a210804-0439-4490-8437-931a134ae8fb",
   "metadata": {},
   "outputs": [
    {
     "data": {
      "text/plain": [
       "'pwskills'"
      ]
     },
     "execution_count": 13,
     "metadata": {},
     "output_type": "execute_result"
    }
   ],
   "source": [
    "str1.lower()"
   ]
  },
  {
   "cell_type": "code",
   "execution_count": 14,
   "id": "a9d88913-b703-4cfb-b5eb-6e4f39b4a011",
   "metadata": {},
   "outputs": [],
   "source": [
    "#Q9 Write a code to count the number of words in a string?"
   ]
  },
  {
   "cell_type": "code",
   "execution_count": 15,
   "id": "92583d80-01a6-4b82-8f46-222cfc934fe7",
   "metadata": {},
   "outputs": [
    {
     "data": {
      "text/plain": [
       "7"
      ]
     },
     "execution_count": 15,
     "metadata": {},
     "output_type": "execute_result"
    }
   ],
   "source": [
    "string=\"oneplus\"\n",
    "len(string)"
   ]
  },
  {
   "cell_type": "code",
   "execution_count": 16,
   "id": "9fc99967-b424-41e5-aac0-3cb194443587",
   "metadata": {},
   "outputs": [],
   "source": [
    "#Q10 Write a code to concatenate two string without using the + operator?"
   ]
  },
  {
   "cell_type": "code",
   "execution_count": 17,
   "id": "69384360-fd7d-4778-b354-886b8942cab5",
   "metadata": {},
   "outputs": [
    {
     "data": {
      "text/plain": [
       "('Hello', 'World')"
      ]
     },
     "execution_count": 17,
     "metadata": {},
     "output_type": "execute_result"
    }
   ],
   "source": [
    "str1=\"Hello\"\n",
    "str2=\"World\"\n",
    "str1,str2"
   ]
  },
  {
   "cell_type": "code",
   "execution_count": 18,
   "id": "13f53b13-9eba-446d-8a45-8c9c96447173",
   "metadata": {},
   "outputs": [],
   "source": [
    "#Q11 Write a code to remove all occurrence of a specific elements from a list?"
   ]
  },
  {
   "cell_type": "code",
   "execution_count": 19,
   "id": "9f4f4d19-d22a-417f-bcd9-bd9a94f497e3",
   "metadata": {},
   "outputs": [
    {
     "data": {
      "text/plain": [
       "{1, 3, 4, 5}"
      ]
     },
     "execution_count": 19,
     "metadata": {},
     "output_type": "execute_result"
    }
   ],
   "source": [
    "list=[1,3,2,4,5,2,2,2]\n",
    "set={i for i in list}\n",
    "set.remove(2)\n",
    "set"
   ]
  },
  {
   "cell_type": "code",
   "execution_count": 20,
   "id": "1ad1644b-f053-43d8-9728-ce32cff2e4e0",
   "metadata": {},
   "outputs": [],
   "source": [
    "#Q12  Implement a code to find the second largest number in a given list of integer?"
   ]
  },
  {
   "cell_type": "code",
   "execution_count": 21,
   "id": "47c9b4d0-6909-4f77-a9d4-fbdf29ea4a0a",
   "metadata": {},
   "outputs": [
    {
     "data": {
      "text/plain": [
       "8"
      ]
     },
     "execution_count": 21,
     "metadata": {},
     "output_type": "execute_result"
    }
   ],
   "source": [
    "list=[3,2,1,8,9]\n",
    "sorted(list)\n",
    "list[-2]"
   ]
  },
  {
   "cell_type": "code",
   "execution_count": 22,
   "id": "2cd09114-59a7-45d8-98a1-6ee8d2839ef2",
   "metadata": {},
   "outputs": [],
   "source": [
    "#Q13 Create a code to count the occurrences of each element ina list and return a dictionary with elementsas keys and their counts as values?"
   ]
  },
  {
   "cell_type": "code",
   "execution_count": 23,
   "id": "ee7728fa-aea5-487b-bc51-be00734a8130",
   "metadata": {},
   "outputs": [
    {
     "data": {
      "text/plain": [
       "{6: 2, 4: 1, 2: 1, 'anuj': 2, 'pw': 1}"
      ]
     },
     "execution_count": 23,
     "metadata": {},
     "output_type": "execute_result"
    }
   ],
   "source": [
    "list1=[6,4,2,6,\"anuj\",\"pw\",\"anuj\"]\n",
    "list2=[list1.count(i) for i in list1]\n",
    "{i:j for i,j in zip(list1,list2)}"
   ]
  },
  {
   "cell_type": "code",
   "execution_count": 24,
   "id": "65c3a0fa-1f5a-4141-99d9-35168cec0a9d",
   "metadata": {},
   "outputs": [],
   "source": [
    "#Q14 Write a code to reverse a list in-place without using any built-in reverse functions?"
   ]
  },
  {
   "cell_type": "code",
   "execution_count": 25,
   "id": "2bd873e4-966b-4a11-99ad-0715069a98f7",
   "metadata": {},
   "outputs": [
    {
     "data": {
      "text/plain": [
       "[4, 3, 2, 1]"
      ]
     },
     "execution_count": 25,
     "metadata": {},
     "output_type": "execute_result"
    }
   ],
   "source": [
    "list=[1,2,3,4]\n",
    "start=0\n",
    "end=len(list)-1\n",
    "while start<end:\n",
    "    list[start],list[end]=list[end],list[start]\n",
    "    start=1\n",
    "    end-=1\n",
    "list"
   ]
  },
  {
   "cell_type": "code",
   "execution_count": 26,
   "id": "65e85c9e-1781-4720-8573-00b09c6dfb9f",
   "metadata": {},
   "outputs": [],
   "source": [
    "#Q15 Implement a code to find and remove duplicates from a list while preserving the original orderof elements?"
   ]
  },
  {
   "cell_type": "code",
   "execution_count": 27,
   "id": "2d33056a-cc62-41ec-b5ad-46f3c4e5b9d4",
   "metadata": {},
   "outputs": [
    {
     "data": {
      "text/plain": [
       "[1, 2, 'anuj', 2, 1, 'anuj']"
      ]
     },
     "execution_count": 27,
     "metadata": {},
     "output_type": "execute_result"
    }
   ],
   "source": [
    "list=[1,2,7,\"anuj\",2,1,\"anuj\"]\n",
    "[i for i in list if list.count(i)>1]#To find duplicates"
   ]
  },
  {
   "cell_type": "code",
   "execution_count": 28,
   "id": "0e759b34-673d-449a-a80d-b001b111963e",
   "metadata": {},
   "outputs": [
    {
     "data": {
      "text/plain": [
       "{1, 2, 7, 'anuj'}"
      ]
     },
     "execution_count": 28,
     "metadata": {},
     "output_type": "execute_result"
    }
   ],
   "source": [
    "{i for i in list} #To remove duplicates"
   ]
  },
  {
   "cell_type": "code",
   "execution_count": 29,
   "id": "b4f67788-15c5-4f0d-b32a-9c5bfc11b464",
   "metadata": {},
   "outputs": [],
   "source": [
    "#Q16 Create a code to check if a given list is sorted (either in ascending or descending order)? or not"
   ]
  },
  {
   "cell_type": "code",
   "execution_count": 30,
   "id": "77595427-4624-4b5f-b1e4-16ff79e314bf",
   "metadata": {},
   "outputs": [
    {
     "name": "stdout",
     "output_type": "stream",
     "text": [
      "Not Sorted\n"
     ]
    }
   ],
   "source": [
    "list=[5,3,2,9]\n",
    "list2=sorted(list)\n",
    "if list==list2:\n",
    "    print(\"Sorted\")\n",
    "else:\n",
    "    print(\"Not Sorted\")"
   ]
  },
  {
   "cell_type": "code",
   "execution_count": 31,
   "id": "bfd6f808-f540-4cbb-a5a0-7ffe64f5acea",
   "metadata": {},
   "outputs": [],
   "source": [
    "#Q17 Write a code to merge two sorted lists into a single sorted list?"
   ]
  },
  {
   "cell_type": "code",
   "execution_count": 32,
   "id": "9f360c4f-8c5a-4189-bcc5-9d4767cf619b",
   "metadata": {},
   "outputs": [
    {
     "data": {
      "text/plain": [
       "[1, 3, 4, 5, 6, 8, 9, 10, 11]"
      ]
     },
     "execution_count": 32,
     "metadata": {},
     "output_type": "execute_result"
    }
   ],
   "source": [
    "list1=[1,3,4,5,6]\n",
    "list2=[8,9,10,11]\n",
    "list1.extend(list2)\n",
    "sorted(list1)"
   ]
  },
  {
   "cell_type": "code",
   "execution_count": 33,
   "id": "c37175a0-ea3b-4b0d-b832-f0932d8897c9",
   "metadata": {},
   "outputs": [],
   "source": [
    "#Q18 Implement a code to find the intersection of two given lists?"
   ]
  },
  {
   "cell_type": "code",
   "execution_count": 34,
   "id": "24275a5f-6a90-41e1-b41d-b32e17e7b27d",
   "metadata": {},
   "outputs": [
    {
     "data": {
      "text/plain": [
       "[{1, 3}]"
      ]
     },
     "execution_count": 34,
     "metadata": {},
     "output_type": "execute_result"
    }
   ],
   "source": [
    "list1=[1,3,5,7]\n",
    "list2=[2,3,8,1,9]\n",
    "set1={i for i in list1}\n",
    "set2={j for j in list2}\n",
    "[set1&set2]"
   ]
  },
  {
   "cell_type": "code",
   "execution_count": 35,
   "id": "9e90eedc-5276-429f-b597-8867c16ac059",
   "metadata": {},
   "outputs": [],
   "source": [
    "#O19 Create a code to find the union of two lists without duplicates?"
   ]
  },
  {
   "cell_type": "code",
   "execution_count": 36,
   "id": "87ff9baa-daeb-44e2-a4c1-b4807713cc46",
   "metadata": {},
   "outputs": [
    {
     "data": {
      "text/plain": [
       "{1, 2, 3, 4, 5, 6}"
      ]
     },
     "execution_count": 36,
     "metadata": {},
     "output_type": "execute_result"
    }
   ],
   "source": [
    "list1=[1,2,3,4]\n",
    "list2=[3,4,5,6]\n",
    "set1={i for i in list1}\n",
    "set2={j for j in list2}\n",
    "set1|set2"
   ]
  },
  {
   "cell_type": "code",
   "execution_count": 37,
   "id": "44102e0e-acbc-49f5-bd42-92da5fa76f61",
   "metadata": {},
   "outputs": [],
   "source": [
    "#Q20 Write a code to shuffle a given list randomly without using any built-in shuffle functions?"
   ]
  },
  {
   "cell_type": "code",
   "execution_count": 38,
   "id": "df9a7d30-54e4-4362-9370-93cd54f6bbb4",
   "metadata": {},
   "outputs": [
    {
     "data": {
      "text/plain": [
       "{1, 2, 3, 'anuj', 'pw'}"
      ]
     },
     "execution_count": 38,
     "metadata": {},
     "output_type": "execute_result"
    }
   ],
   "source": [
    "list=[1,3,2,\"anuj\",\"pw\"]\n",
    "{i for i in list} #I use set to shuffle it randomly"
   ]
  },
  {
   "cell_type": "code",
   "execution_count": 39,
   "id": "ff721abf-6973-449b-925b-b8459503caa7",
   "metadata": {},
   "outputs": [],
   "source": [
    "#Q21 Write a code that takes two tuples as input and returns a new tuple containing elements that are common to both input tuples?"
   ]
  },
  {
   "cell_type": "code",
   "execution_count": 46,
   "id": "56f57f89-d881-41cf-800f-7903cba515ea",
   "metadata": {},
   "outputs": [
    {
     "name": "stdin",
     "output_type": "stream",
     "text": [
      "Write first tuple 123\n",
      "Write second tuple 234\n"
     ]
    },
    {
     "data": {
      "text/plain": [
       "{'2', '3'}"
      ]
     },
     "execution_count": 46,
     "metadata": {},
     "output_type": "execute_result"
    }
   ],
   "source": [
    "t1=tuple(input(\"Write first tuple\"))\n",
    "t2=tuple(input(\"Write second tuple\"))\n",
    "set1={i for i in t1}\n",
    "set2={j for j in t2}\n",
    "t3=(set1&set2)\n",
    "t3"
   ]
  },
  {
   "cell_type": "code",
   "execution_count": 41,
   "id": "e532019b-7f8f-4ca9-b43f-dac96b757bb3",
   "metadata": {},
   "outputs": [],
   "source": [
    "#Q22  Create a code that prompts the user to enter two sets of integers separated by commas. Then, print the intersection of these two sets?"
   ]
  },
  {
   "cell_type": "code",
   "execution_count": 88,
   "id": "76003ed4-216f-4fda-906a-d99448c52d0c",
   "metadata": {},
   "outputs": [
    {
     "data": {
      "text/plain": [
       "{2, 6, 'pw'}"
      ]
     },
     "execution_count": 88,
     "metadata": {},
     "output_type": "execute_result"
    }
   ],
   "source": [
    "set1={3,6,7,2,\"pw\"}\n",
    "set2={6,2,\"pw\",\"data\"}\n",
    "(set1&set2)"
   ]
  },
  {
   "cell_type": "code",
   "execution_count": 51,
   "id": "b5b7bb5d-06ff-4bd0-8e42-eb266f2099a1",
   "metadata": {},
   "outputs": [],
   "source": [
    "#Q23 Write a code to concatenate two tuples.The function should take two tuples as input and return a new tuple containing elements from both input tuples?"
   ]
  },
  {
   "cell_type": "code",
   "execution_count": 52,
   "id": "b1f5b90c-29d0-49a0-a102-9d1c305ff2f0",
   "metadata": {},
   "outputs": [
    {
     "name": "stdin",
     "output_type": "stream",
     "text": [
      "Write tuple 1 1 1 3 5 7\n",
      "Write tuple 2 2 2 5 6 6 \n"
     ]
    },
    {
     "data": {
      "text/plain": [
       "'1 1 3 5 72 2 5 6 6 '"
      ]
     },
     "execution_count": 52,
     "metadata": {},
     "output_type": "execute_result"
    }
   ],
   "source": [
    "t1=input(\"Write tuple 1\")\n",
    "t2=input(\"Write tuple 2\")\n",
    "(t1+t2)"
   ]
  },
  {
   "cell_type": "code",
   "execution_count": 53,
   "id": "c51bf62e-11ea-4000-a5f9-bcd3afba8e09",
   "metadata": {},
   "outputs": [],
   "source": [
    "#Q24  Develop a code that prompts the user to input two sets of strings. Then, print the elements that are present in the first set but not in the second set?"
   ]
  },
  {
   "cell_type": "code",
   "execution_count": 54,
   "id": "a312a591-51c2-489a-b439-b4511c77db8d",
   "metadata": {},
   "outputs": [
    {
     "name": "stdin",
     "output_type": "stream",
     "text": [
      "Write String 1 anuj\n",
      "Write String 2 anup\n"
     ]
    },
    {
     "data": {
      "text/plain": [
       "{'j'}"
      ]
     },
     "execution_count": 54,
     "metadata": {},
     "output_type": "execute_result"
    }
   ],
   "source": [
    "str1=input(\"Write String 1\")\n",
    "str2=input(\"Write String 2\")\n",
    "set1={i for i in str1}\n",
    "set2={j for j in str2}\n",
    "set1-set2"
   ]
  },
  {
   "cell_type": "code",
   "execution_count": 55,
   "id": "a20d0762-067e-4a76-88ad-56f608eaa60c",
   "metadata": {},
   "outputs": [],
   "source": [
    "#Q25 Create a code that takes a tuple and two integers as input.The function should return a new tuple containing elements from the original tuple within the specified range of indices?"
   ]
  },
  {
   "cell_type": "code",
   "execution_count": 56,
   "id": "5566c42d-8443-435e-bdf2-5b0e55b2dad4",
   "metadata": {},
   "outputs": [
    {
     "name": "stdin",
     "output_type": "stream",
     "text": [
      "Write first integer 1\n",
      "Write second integer 8\n"
     ]
    },
    {
     "name": "stdout",
     "output_type": "stream",
     "text": [
      "1 2 3 4 "
     ]
    }
   ],
   "source": [
    "t1=(1,2,3,4,9,22)\n",
    "i1=int(input(\"Write first integer\"))\n",
    "i2=int(input(\"Write second integer\"))\n",
    "for i in t1:\n",
    "    if i1<=i<=i2:\n",
    "        print(i,end=\" \")"
   ]
  },
  {
   "cell_type": "code",
   "execution_count": 57,
   "id": "efed7497-841e-4b60-86bb-72e0d9dedb30",
   "metadata": {},
   "outputs": [],
   "source": [
    "#Q26 Write a code that prompts the user to input two sets of characters. Then, print the union of these two sets?"
   ]
  },
  {
   "cell_type": "code",
   "execution_count": 87,
   "id": "de1abc65-9d46-4259-a08c-b27ac414cb6a",
   "metadata": {},
   "outputs": [
    {
     "data": {
      "text/plain": [
       "{2, 3, 4, 5, 9, 'anuj', 'pw'}"
      ]
     },
     "execution_count": 87,
     "metadata": {},
     "output_type": "execute_result"
    }
   ],
   "source": [
    "set1={4,2,9,\"anuj\"}\n",
    "set2={5,3,2,\"pw\"}\n",
    "set1|set2"
   ]
  },
  {
   "cell_type": "code",
   "execution_count": 59,
   "id": "0c970e52-749a-4ed2-9572-c429c78ca7cb",
   "metadata": {},
   "outputs": [],
   "source": [
    "#Q27 Develop a code that takes a tuple of integers as input. The function should return the maximum and minimum values from the tuple using tuple unpacking?"
   ]
  },
  {
   "cell_type": "code",
   "execution_count": 60,
   "id": "3a6f0f53-7655-4aea-a317-be39566e723a",
   "metadata": {},
   "outputs": [
    {
     "name": "stdin",
     "output_type": "stream",
     "text": [
      "Write tuple 12357\n"
     ]
    },
    {
     "name": "stdout",
     "output_type": "stream",
     "text": [
      "max value=7 min value=1\n"
     ]
    }
   ],
   "source": [
    "t1=tuple(input(\"Write tuple\"))\n",
    "print(\"max value=\"+max(t1)+\" \"+\"min value=\"+min(t1))"
   ]
  },
  {
   "cell_type": "code",
   "execution_count": 61,
   "id": "cd01f5aa-55c6-40db-b2f2-8098761eed8f",
   "metadata": {},
   "outputs": [],
   "source": [
    "#Q28 Create a code that defines two sets of integers. Then, print the union, intersection, and difference of these two sets?"
   ]
  },
  {
   "cell_type": "code",
   "execution_count": 62,
   "id": "a350f58a-ad6d-4910-a580-08614fbe2434",
   "metadata": {},
   "outputs": [
    {
     "name": "stdout",
     "output_type": "stream",
     "text": [
      "{5, 7}\n",
      "{1, 2, 3, 4, 5, 7, 8, 9}\n",
      "{8, 2, 4}\n"
     ]
    }
   ],
   "source": [
    "set1={2,4,5,7,8}\n",
    "set2={1,3,5,7,9}\n",
    "print(set1&set2) #intersection\n",
    "print(set1|set2) #union\n",
    "print(set1-set2) #difference"
   ]
  },
  {
   "cell_type": "code",
   "execution_count": 63,
   "id": "1c1aebf3-5e03-4416-af51-802e390ba9f5",
   "metadata": {},
   "outputs": [],
   "source": [
    "#Q29 Write a code that takes a tuple and an element as input. The function should return the count of occurrences of the given element in the tuple?"
   ]
  },
  {
   "cell_type": "code",
   "execution_count": 65,
   "id": "2c42eefa-c23e-4ea5-a1c2-e159a772e81d",
   "metadata": {},
   "outputs": [
    {
     "name": "stdin",
     "output_type": "stream",
     "text": [
      "Write element 3\n"
     ]
    },
    {
     "data": {
      "text/plain": [
       "2"
      ]
     },
     "execution_count": 65,
     "metadata": {},
     "output_type": "execute_result"
    }
   ],
   "source": [
    "t1=(1,3,5,7,2,3)\n",
    "element=int(input(\"Write element\"))\n",
    "t1.count(element)"
   ]
  },
  {
   "cell_type": "code",
   "execution_count": 66,
   "id": "d8a066d6-fcb0-4840-83f7-f19f7205491a",
   "metadata": {},
   "outputs": [],
   "source": [
    "#Q30 Develop a code that prompts the user to input two sets of strings. Then, print the symmetric difference of these two sets?"
   ]
  },
  {
   "cell_type": "code",
   "execution_count": 86,
   "id": "b6573093-5478-42d3-b700-c0c1a1b15635",
   "metadata": {},
   "outputs": [
    {
     "data": {
      "text/plain": [
       "{3, 4, 5, 6, 8, 9}"
      ]
     },
     "execution_count": 86,
     "metadata": {},
     "output_type": "execute_result"
    }
   ],
   "source": [
    "set1={2,4,5,8}\n",
    "set2={6,3,2,9}\n",
    "(set1^set2)"
   ]
  },
  {
   "cell_type": "code",
   "execution_count": 68,
   "id": "d2cdff85-4ad9-4b6a-9ac2-68857658d1e6",
   "metadata": {},
   "outputs": [],
   "source": [
    "#Q31 Write a code that takes a list of words as input and returns a dictionary where the keys are unique words and the values are the frequencies of those words in the input list?"
   ]
  },
  {
   "cell_type": "code",
   "execution_count": 69,
   "id": "c0ae872b-70ac-4de7-99e1-771b46f4b192",
   "metadata": {},
   "outputs": [
    {
     "name": "stdin",
     "output_type": "stream",
     "text": [
      "words pwskills\n"
     ]
    },
    {
     "data": {
      "text/plain": [
       "{'p': 1, 'w': 1, 's': 2, 'k': 1, 'i': 1, 'l': 2}"
      ]
     },
     "execution_count": 69,
     "metadata": {},
     "output_type": "execute_result"
    }
   ],
   "source": [
    "lis=(input(\"words\"))\n",
    "{i:lis.count(i) for i in lis}"
   ]
  },
  {
   "cell_type": "code",
   "execution_count": 70,
   "id": "632bf83e-579a-46c8-b49a-7585b507002a",
   "metadata": {},
   "outputs": [],
   "source": [
    "#Q32  Write a code that takes two dictionaries as input and merges them into a single dictionary. If there are common keys, the values should be added together?"
   ]
  },
  {
   "cell_type": "code",
   "execution_count": 71,
   "id": "b0359a4f-5c44-4955-8587-c79e6965c9ce",
   "metadata": {},
   "outputs": [
    {
     "data": {
      "text/plain": [
       "{'a': 500, 'd': 100, 'c': 400, 'b': 200}"
      ]
     },
     "execution_count": 71,
     "metadata": {},
     "output_type": "execute_result"
    }
   ],
   "source": [
    "d1={\"a\":100,\"b\":200,\"c\":300}\n",
    "d2={\"a\":400,\"d\":100,\"c\":100}\n",
    "new_dict=d2\n",
    "for i,j in d1.items():\n",
    "    if i in d2:\n",
    "        new_dict[i]=j+d2[i]\n",
    "    else:\n",
    "        new_dict[i]=j\n",
    "new_dict"
   ]
  },
  {
   "cell_type": "code",
   "execution_count": 72,
   "id": "afae1b9c-f2fe-41db-a8ad-8c5bd07d90fa",
   "metadata": {},
   "outputs": [],
   "source": [
    "#Q33 Write a code to access a value in a nested dictionary. The function should take the dictionary and a list of keys as input, and return the corresponding value. If any of the keys do not exist in the dictionary, the function should return None&?"
   ]
  },
  {
   "cell_type": "code",
   "execution_count": 73,
   "id": "6654a628-2051-4204-b202-0ad44eae9973",
   "metadata": {},
   "outputs": [
    {
     "name": "stdin",
     "output_type": "stream",
     "text": [
      "Enter list of keys \"a\" 1 \"c\"\n"
     ]
    },
    {
     "name": "stdout",
     "output_type": "stream",
     "text": [
      "(1, 2, 3)\n",
      "key do not exist\n",
      "(1, 2, 3)\n"
     ]
    }
   ],
   "source": [
    "d1=dict.fromkeys((\"a\",\"b\",\"c\"),(1,2,3)) #nested dictionary\n",
    "lis=input(\"Enter list of keys\")\n",
    "for i,j in d1.items():\n",
    "    if i in lis:\n",
    "        print(j)\n",
    "    else:\n",
    "        print(\"key do not exist\")"
   ]
  },
  {
   "cell_type": "code",
   "execution_count": 74,
   "id": "6f50db1f-0b6c-4b7c-bafd-cb7344db3c75",
   "metadata": {},
   "outputs": [],
   "source": [
    "#Q34 Write a code that takes a dictionary as input and returns a sorted version of it based on the values. You can choose whether to sort in ascending or descending or"
   ]
  },
  {
   "cell_type": "code",
   "execution_count": 75,
   "id": "b3c81771-b80f-44d0-8656-2a8242d83c45",
   "metadata": {},
   "outputs": [
    {
     "name": "stdin",
     "output_type": "stream",
     "text": [
      "Enter number of enteries 2\n",
      "Enter key \"cd\"\n",
      "Enter value 5\n",
      "Enter key \"ab\"\n",
      "Enter value 2\n"
     ]
    },
    {
     "data": {
      "text/plain": [
       "{'\"ab\"': '2', '\"cd\"': '5'}"
      ]
     },
     "execution_count": 75,
     "metadata": {},
     "output_type": "execute_result"
    }
   ],
   "source": [
    "enteries=int(input(\"Enter number of enteries\"))\n",
    "dict={}\n",
    "for i in range(enteries):\n",
    "    key=input(\"Enter key\")\n",
    "    value=input(\"Enter value\")\n",
    "    dict[key]=value\n",
    "lis=[i for i in dict.keys()]\n",
    "{j:dict[j] for j in sorted(lis)} #sorting on basis of key,  Sorry but I am not able to make logic on basis of sorting using values"
   ]
  },
  {
   "cell_type": "code",
   "execution_count": 76,
   "id": "cae6d910-c182-48a2-98aa-5c9006eb5f40",
   "metadata": {},
   "outputs": [],
   "source": [
    "#Q35 Writeacodethatinvertsadictionary,swappingkeysandvalues.Ensurethattheinverteddictionary correctly handles cases where multiple keys have the same value by storing the keys as a list in the inverted dictionary?"
   ]
  },
  {
   "cell_type": "code",
   "execution_count": 77,
   "id": "adbcf401-2814-4785-917f-e9b462667d05",
   "metadata": {},
   "outputs": [
    {
     "data": {
      "text/plain": [
       "{12: 'ab', 34: 'bc', 98: 'pq'}"
      ]
     },
     "execution_count": 77,
     "metadata": {},
     "output_type": "execute_result"
    }
   ],
   "source": [
    "dict={\"ab\":12,\"bc\":34,\"pq\":98}\n",
    "new_dict={}\n",
    "for i,j in dict.items():\n",
    "    new_dict[j]=i\n",
    "new_dict"
   ]
  },
  {
   "cell_type": "code",
   "execution_count": 78,
   "id": "a37f61af-3552-4e2b-b471-9b1fed8b4d61",
   "metadata": {},
   "outputs": [],
   "source": [
    "#Q6 Write a code to perform basic string compression using the counts of repeated characters?"
   ]
  },
  {
   "cell_type": "code",
   "execution_count": 79,
   "id": "0582d8df-8b03-4b38-97e7-0bb536025121",
   "metadata": {},
   "outputs": [
    {
     "name": "stdout",
     "output_type": "stream",
     "text": [
      "a5b2c9d1"
     ]
    }
   ],
   "source": [
    "string=\"aabbccccccdcccaaa\"\n",
    "lis=[i for i in string]\n",
    "dict={i:lis.count(i) for i in lis}\n",
    "for i,j in dict.items():\n",
    "    print(i,end=\"\")\n",
    "    print(j,end=\"\")"
   ]
  },
  {
   "cell_type": "code",
   "execution_count": 80,
   "id": "9ef47e1c-46ee-459b-b215-a791adbf5708",
   "metadata": {},
   "outputs": [],
   "source": [
    "#I am not able to understand Q5 ---Write a code to find all occurrences of a given substring within another string?"
   ]
  }
 ],
 "metadata": {
  "kernelspec": {
   "display_name": "Python 3 (ipykernel)",
   "language": "python",
   "name": "python3"
  },
  "language_info": {
   "codemirror_mode": {
    "name": "ipython",
    "version": 3
   },
   "file_extension": ".py",
   "mimetype": "text/x-python",
   "name": "python",
   "nbconvert_exporter": "python",
   "pygments_lexer": "ipython3",
   "version": "3.10.8"
  }
 },
 "nbformat": 4,
 "nbformat_minor": 5
}
